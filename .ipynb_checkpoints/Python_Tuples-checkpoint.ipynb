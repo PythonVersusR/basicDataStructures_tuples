{
  "nbformat": 4,
  "nbformat_minor": 0,
  "metadata": {
    "anaconda-cloud": {
      "attach-environment": true,
      "summary": "test"
    },
    "hide_input": false,
    "kernelspec": {
      "display_name": "Python 3",
      "language": "python",
      "name": "python3"
    },
    "language_info": {
      "codemirror_mode": {
        "name": "ipython",
        "version": 3
      },
      "file_extension": ".py",
      "mimetype": "text/x-python",
      "name": "python",
      "nbconvert_exporter": "python",
      "pygments_lexer": "ipython3",
      "version": "3.7.5"
    },
    "colab": {
      "provenance": [],
      "toc_visible": true
    }
  },
  "cells": [
    {
      "cell_type": "markdown",
      "source": [
        "<a href=\"https://imgur.com/6U6q5jQ\"><img src=\"https://i.imgur.com/6U6q5jQ.png\" title=\"source: imgur.com\" /></a>\n"
      ],
      "metadata": {
        "id": "lNv7Ih8U1kYU"
      }
    },
    {
      "cell_type": "markdown",
      "metadata": {
        "id": "6TqYtxaftWhf"
      },
      "source": [
        "#  **TUPLES**\n",
        "\n",
        "Tuples are inmutable structures in Python, they look like lists but do not share much of their functionality:"
      ]
    },
    {
      "cell_type": "code",
      "metadata": {
        "id": "xcBxNtLDtWhg"
      },
      "source": [
        "weekend=\"Friday\", \"Saturday\", \"Sunday\""
      ],
      "execution_count": null,
      "outputs": []
    },
    {
      "cell_type": "code",
      "source": [
        "type(weekend)"
      ],
      "metadata": {
        "id": "i8YTGmf5jWz2"
      },
      "execution_count": null,
      "outputs": []
    },
    {
      "cell_type": "markdown",
      "metadata": {
        "id": "ii6lRXlZtWhj"
      },
      "source": [
        "You can access:"
      ]
    },
    {
      "cell_type": "code",
      "metadata": {
        "id": "QtVsil3CtWhj"
      },
      "source": [
        "weekend[0]"
      ],
      "execution_count": null,
      "outputs": []
    },
    {
      "cell_type": "markdown",
      "metadata": {
        "id": "9VyDiWG0tWhn"
      },
      "source": [
        "But no other operation is allowed:"
      ]
    },
    {
      "cell_type": "code",
      "source": [
        "del weekend[0]"
      ],
      "metadata": {
        "id": "knEfvHt2Je_k"
      },
      "execution_count": null,
      "outputs": []
    },
    {
      "cell_type": "code",
      "source": [
        "weekend[0]='Viernes'"
      ],
      "metadata": {
        "id": "I2sT23Y1JmKI"
      },
      "execution_count": null,
      "outputs": []
    },
    {
      "cell_type": "code",
      "source": [
        "weekend[3]='Extra Holiday'"
      ],
      "metadata": {
        "id": "FegD3iFmJwDv"
      },
      "execution_count": null,
      "outputs": []
    },
    {
      "cell_type": "markdown",
      "source": [
        "You can concatenate two tuples into a new one:"
      ],
      "metadata": {
        "id": "j70EnHTHKL4k"
      }
    },
    {
      "cell_type": "code",
      "source": [
        "otherDays='Monday','Tuesday', 'Wednesday', 'Thursday'\n",
        "otherDays"
      ],
      "metadata": {
        "id": "JjWqrH2LJ-SE"
      },
      "execution_count": null,
      "outputs": []
    },
    {
      "cell_type": "code",
      "source": [
        "allDays=weekend + otherDays\n",
        "allDays"
      ],
      "metadata": {
        "id": "0Xl7NrbuKKvu"
      },
      "execution_count": null,
      "outputs": []
    },
    {
      "cell_type": "markdown",
      "source": [
        "But it has not altered any previous tuple."
      ],
      "metadata": {
        "id": "QOLRbmojKcAl"
      }
    }
  ]
}